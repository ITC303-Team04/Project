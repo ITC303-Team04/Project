{
 "cells": [
  {
   "cell_type": "code",
   "execution_count": null,
   "metadata": {},
   "outputs": [],
   "source": [
    "import sagemaker\n",
    "import os\n",
    "from datetime import datetime\n",
    "from sagemaker.utils import sagemaker_timestamp\n",
    "from sagemaker.tensorflow import TensorFlow\n",
    "from sagemaker import get_execution_role"
   ]
  },
  {
   "cell_type": "markdown",
   "metadata": {},
   "source": [
    "### SETUP"
   ]
  },
  {
   "cell_type": "code",
   "execution_count": null,
   "metadata": {},
   "outputs": [],
   "source": [
    "from IPython.display import display, HTML\n",
    "display(HTML(\"<style>.container { width:100% !important; }</style>\"))"
   ]
  },
  {
   "cell_type": "code",
   "execution_count": null,
   "metadata": {},
   "outputs": [],
   "source": [
    "ROLE = get_execution_role()\n",
    "SESSION = sagemaker.Session()\n",
    "TIMESTAMP = datetime.now().strftime(\"%d-%m-%Y----%H-%M-%S\")"
   ]
  },
  {
   "cell_type": "markdown",
   "metadata": {},
   "source": [
    "### TRAINING VARIABLES"
   ]
  },
  {
   "cell_type": "code",
   "execution_count": null,
   "metadata": {},
   "outputs": [],
   "source": [
    "INSTANCE_TYPE = 'ml.p3.8xlarge'\n",
    "INSTANCE_COUNT = 1\n",
    "TRAINING_SCRIPT = 'train.py'\n",
    "JOB_ID = 'training' \n",
    "\n",
    "\n",
    "BUCKET = 'csu-team-04-training'\n",
    "INFER_BUCKET = 'csu-team04-inference-model'"
   ]
  },
  {
   "cell_type": "markdown",
   "metadata": {},
   "source": [
    "### HYPERPARAMETERS"
   ]
  },
  {
   "cell_type": "code",
   "execution_count": null,
   "metadata": {},
   "outputs": [],
   "source": [
    "job_name = f'{JOB_ID}----{TIMESTAMP}'\n",
    "\n",
    "hyperparameters = {\n",
    "    \"epochs\": 5,\n",
    "    \"train-bucket\": BUCKET,\n",
    "    \"infer-bucket\": INFER_BUCKET,\n",
    "    \"job_name\": job_name,\n",
    "}"
   ]
  },
  {
   "cell_type": "markdown",
   "metadata": {},
   "source": [
    "### TRAIN"
   ]
  },
  {
   "cell_type": "code",
   "execution_count": null,
   "metadata": {},
   "outputs": [],
   "source": [
    "estimator = TensorFlow(\n",
    "    role=ROLE,\n",
    "    entry_point=TRAINING_SCRIPT,\n",
    "    output_path=f's3://{BUCKET}/training_output',\n",
    "    instance_count=INSTANCE_COUNT,\n",
    "    instance_type=INSTANCE_TYPE,\n",
    "    hyperparameters=hyperparameters,\n",
    "    py_version='py37',\n",
    "    framework_version = '2.3',\n",
    "    source_dir='src'\n",
    ")\n",
    "\n",
    "estimator.fit({\"train\": f's3://{BUCKET}'}, job_name=job_name)"
   ]
  }
 ],
 "metadata": {
  "kernelspec": {
   "display_name": "Python 3.8.10 64-bit",
   "language": "python",
   "name": "python3"
  },
  "language_info": {
   "codemirror_mode": {
    "name": "ipython",
    "version": 3
   },
   "file_extension": ".py",
   "mimetype": "text/x-python",
   "name": "python",
   "nbconvert_exporter": "python",
   "pygments_lexer": "ipython3",
   "version": "3.8.10"
  },
  "orig_nbformat": 4,
  "vscode": {
   "interpreter": {
    "hash": "916dbcbb3f70747c44a77c7bcd40155683ae19c65e1c03b4aa3499c5328201f1"
   }
  }
 },
 "nbformat": 4,
 "nbformat_minor": 2
}
