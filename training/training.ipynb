{
 "cells": [
  {
   "cell_type": "code",
   "execution_count": null,
   "metadata": {},
   "outputs": [],
   "source": [
    "import sagemaker\n",
    "import os\n",
    "from datetime import datetime\n",
    "from sagemaker.utils import sagemaker_timestamp\n",
    "from sagemaker.tensorflow import TensorFlow\n",
    "from sagemaker import get_execution_role"
   ]
  },
  {
   "cell_type": "code",
   "execution_count": null,
   "metadata": {},
   "outputs": [],
   "source": [
    "from IPython.display import display, HTML\n",
    "display(HTML(\"<style>.container { width:100% !important; }</style>\"))"
   ]
  },
  {
   "cell_type": "markdown",
   "metadata": {},
   "source": [
    "### SETUP"
   ]
  },
  {
   "cell_type": "code",
   "execution_count": null,
   "metadata": {},
   "outputs": [],
   "source": [
    "# environment setup\n",
    "ROLE = get_execution_role()\n",
    "SESSION = sagemaker.Session()\n",
    "BUCKET = 's3://sagemaker-training-itc309'\n",
    "TIMESTAMP = datetime.now().strftime(\"%d-%m-%Y----%H-%M-%S\")\n",
    "\n",
    "# instance setup\n",
    "# INSTANCE_TYPE = 'ml.m5.large' # $0.115 ph / 8gb ram / 2 vCPU  (More ram needed)\n",
    "INSTANCE_TYPE = 'ml.m5.2xlarge' # $0.461 ph / 32gb ram / 8 vCPU \n",
    "INSTANCE_COUNT = 1\n",
    "\n",
    "# path to training script\n",
    "TRAINING_SCRIPT = \"train.py\"\n",
    "\n",
    "# name of the job (will be used as folder name in s3)\n",
    "JOB_NAME = 'training'\n"
   ]
  },
  {
   "cell_type": "markdown",
   "metadata": {},
   "source": [
    "### HYPERPARAMETERS"
   ]
  },
  {
   "cell_type": "code",
   "execution_count": null,
   "metadata": {},
   "outputs": [],
   "source": [
    "hyperparameters = {\n",
    "    \"epochs\": 2,\n",
    "    \"bucket\": BUCKET,\n",
    "    # \"retrain-model\": True,\n",
    "}"
   ]
  },
  {
   "cell_type": "markdown",
   "metadata": {},
   "source": [
    "### TRAIN"
   ]
  },
  {
   "cell_type": "code",
   "execution_count": null,
   "metadata": {},
   "outputs": [],
   "source": [
    "# https://sagemaker.readthedocs.io/en/stable/api/training/estimators.html\n",
    "estimator = TensorFlow(\n",
    "    role=ROLE,\n",
    "    entry_point=TRAINING_SCRIPT,\n",
    "    output_path=f'{BUCKET}/training_output',\n",
    "    instance_count=INSTANCE_COUNT,\n",
    "    instance_type=INSTANCE_TYPE,\n",
    "    hyperparameters=hyperparameters,\n",
    "    py_version='py37',\n",
    "    framework_version = '2.3',\n",
    "    source_dir='src'\n",
    ")\n",
    "\n",
    "response = estimator.fit({\"train\": BUCKET}, job_name=f'{JOB_NAME}----{TIMESTAMP}')\n",
    "\n",
    "print(response)"
   ]
  }
 ],
 "metadata": {
  "kernelspec": {
   "display_name": "Python 3.8.10 64-bit",
   "language": "python",
   "name": "python3"
  },
  "language_info": {
   "codemirror_mode": {
    "name": "ipython",
    "version": 3
   },
   "file_extension": ".py",
   "mimetype": "text/x-python",
   "name": "python",
   "nbconvert_exporter": "python",
   "pygments_lexer": "ipython3",
   "version": "3.8.10"
  },
  "orig_nbformat": 4,
  "vscode": {
   "interpreter": {
    "hash": "916dbcbb3f70747c44a77c7bcd40155683ae19c65e1c03b4aa3499c5328201f1"
   }
  }
 },
 "nbformat": 4,
 "nbformat_minor": 2
}
