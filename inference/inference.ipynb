{
 "cells": [
  {
   "cell_type": "code",
   "execution_count": 3,
   "id": "839dc701",
   "metadata": {},
   "outputs": [
    {
     "ename": "ModuleNotFoundError",
     "evalue": "No module named 'osgeo'",
     "output_type": "error",
     "traceback": [
      "\u001b[0;31m---------------------------------------------------------------------------\u001b[0m",
      "\u001b[0;31mModuleNotFoundError\u001b[0m                       Traceback (most recent call last)",
      "\u001b[0;32m<ipython-input-3-afa93242ebf7>\u001b[0m in \u001b[0;36m<module>\u001b[0;34m\u001b[0m\n\u001b[1;32m     10\u001b[0m \u001b[0;32mfrom\u001b[0m \u001b[0mio\u001b[0m \u001b[0;32mimport\u001b[0m \u001b[0mBytesIO\u001b[0m\u001b[0;34m\u001b[0m\u001b[0;34m\u001b[0m\u001b[0m\n\u001b[1;32m     11\u001b[0m \u001b[0;32mimport\u001b[0m \u001b[0mzipfile\u001b[0m\u001b[0;34m\u001b[0m\u001b[0;34m\u001b[0m\u001b[0m\n\u001b[0;32m---> 12\u001b[0;31m \u001b[0;32mfrom\u001b[0m \u001b[0mosgeo\u001b[0m \u001b[0;32mimport\u001b[0m \u001b[0mgdal\u001b[0m\u001b[0;34m\u001b[0m\u001b[0;34m\u001b[0m\u001b[0m\n\u001b[0m",
      "\u001b[0;31mModuleNotFoundError\u001b[0m: No module named 'osgeo'"
     ]
    }
   ],
   "source": [
    "import boto3\n",
    "import os\n",
    "import numpy as np\n",
    "import uuid\n",
    "import cv2 as cv\n",
    "from PIL import Image\n",
    "from matplotlib import pyplot as plt\n",
    "# from tensorflow.keras.models import model_from_json\n",
    "from tensorflow.keras.models import load_model\n",
    "from io import BytesIO\n",
    "import zipfile"
   ]
  },
  {
   "cell_type": "code",
   "execution_count": null,
   "id": "188ccf6a",
   "metadata": {},
   "outputs": [],
   "source": [
    "# Set Variables\n",
    "output_bucket = \"csu-team04-inference-output\"\n",
    "input_bucket = \"csu-team04-inference-input\"\n",
    "model_bucket_name = \"csu-team04-inference-model\"\n",
    "img_object_name = \"output_91.tiff\"\n",
    "model_object_name = \"new_model.h5\""
   ]
  },
  {
   "cell_type": "code",
   "execution_count": null,
   "id": "56ba8bb3",
   "metadata": {},
   "outputs": [],
   "source": [
    "# Overlay Mask on Image\n",
    "colour = [66, 255, 73]\n",
    "colour = [i/255.0 for i in colour]\n",
    "\n",
    "def place_mask_on_image(image, mask):\n",
    "    np.place(image[:, :, :], mask[:, :, :] >= 0.5, colour)\n",
    "    return image"
   ]
  },
  {
   "cell_type": "code",
   "execution_count": null,
   "id": "b5da538d",
   "metadata": {},
   "outputs": [],
   "source": [
    "def predict(prediction):\n",
    "    prediction = prediction[0][:, :, :]\n",
    "    prediction = np.repeat(prediction, 3, 2)\n",
    "    return prediction"
   ]
  },
  {
   "cell_type": "code",
   "execution_count": null,
   "id": "c87e5791",
   "metadata": {},
   "outputs": [],
   "source": [
    "# Get Image From Bucket\n",
    "img_file_path = f\"/tmp/{uuid.uuid4()}-{img_object_name}\"\n",
    "\n",
    "s3 = boto3.client(\"s3\")\n",
    "s3.download_file(input_bucket, img_object_name, img_file_path)\n",
    "image = cv.imread(img_file_path)"
   ]
  },
  {
   "cell_type": "code",
   "execution_count": null,
   "id": "e8e4bb88",
   "metadata": {},
   "outputs": [],
   "source": [
    "# Get Image As Numpy Array\n",
    "print(\"Formatting image...\")\n",
    "img_shape = (512, 512)\n",
    "image = image[:,:,:3]\n",
    "image = np.expand_dims(cv.resize(image, img_shape), 0)\n",
    "image = (image/255.0)\n",
    "image = image.astype(np.float32)\n",
    "display(Image.open(img_file_path))"
   ]
  },
  {
   "cell_type": "code",
   "execution_count": null,
   "id": "55421dda",
   "metadata": {},
   "outputs": [],
   "source": [
    "# Load Model\n",
    "# import tarfile\n",
    "print(\"Loading model...\")\n",
    "model_path = f\"/tmp/{model_object_name}\"\n",
    "s3.download_file(model_bucket_name, model_object_name, model_path)\n",
    "# model_file = tarfile.open(model_path)\n",
    "# model_file.extractall(\"/tmp/extracted_model\")\n",
    "model = load_model(\"/tmp/new_model.h5\", compile=False)\n",
    "print(\"Model loaded successfully!\")"
   ]
  },
  {
   "cell_type": "code",
   "execution_count": null,
   "id": "0a32c18e",
   "metadata": {},
   "outputs": [],
   "source": [
    "# Make Prediction\n",
    "prediction = predict(model(image))\n",
    "print(prediction)"
   ]
  },
  {
   "cell_type": "code",
   "execution_count": null,
   "id": "01a7f42d",
   "metadata": {},
   "outputs": [],
   "source": [
    "# Convert Results to Tiff\n",
    "upload_path = f\"/tmp/{img_object_name}\"\n",
    "result_image = Image.fromarray((prediction * 255).astype(np.uint8))\n",
    "result_image.save(upload_path)\n",
    "display(Image.open(upload_path))"
   ]
  },
  {
   "cell_type": "code",
   "execution_count": null,
   "id": "681c85aa",
   "metadata": {},
   "outputs": [],
   "source": [
    "# Display Overlay\n",
    "plt.subplot(1, 2, 1)\n",
    "plt.title(\"Satellite\")\n",
    "plt.imshow(image[0])\n",
    "plt.subplot(1, 2, 2)\n",
    "plt.title(\"Predicted Mask\")\n",
    "prediction = place_mask_on_image(image[0], prediction)\n",
    "plt.imshow(prediction)\n",
    "plt.show()"
   ]
  },
  {
   "cell_type": "code",
   "execution_count": null,
   "id": "1d2d5f6b",
   "metadata": {},
   "outputs": [],
   "source": [
    "# Upload Result to Bucket\n",
    "s3.upload_file(upload_path, output_bucket, f\"{img_object_name.split('.')[0]}-mask.tiff\")\n",
    "print(\"Uploaded image to bucket!\")"
   ]
  }
 ],
 "metadata": {
  "kernelspec": {
   "display_name": "conda_amazonei_tensorflow2_p36",
   "language": "python",
   "name": "conda_amazonei_tensorflow2_p36"
  },
  "language_info": {
   "codemirror_mode": {
    "name": "ipython",
    "version": 3
   },
   "file_extension": ".py",
   "mimetype": "text/x-python",
   "name": "python",
   "nbconvert_exporter": "python",
   "pygments_lexer": "ipython3",
   "version": "3.6.13"
  }
 },
 "nbformat": 4,
 "nbformat_minor": 5
}
