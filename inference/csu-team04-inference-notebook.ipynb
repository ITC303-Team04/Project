{
 "cells": [
  {
   "cell_type": "markdown",
   "id": "c7ccbdc1",
   "metadata": {},
   "source": [
    "# Import Python Packages"
   ]
  },
  {
   "cell_type": "code",
   "execution_count": null,
   "id": "cc064ad0",
   "metadata": {
    "scrolled": true
   },
   "outputs": [],
   "source": [
    "import boto3\n",
    "import os\n",
    "import numpy as np\n",
    "import uuid\n",
    "import cv2 as cv\n",
    "from PIL import Image\n",
    "from matplotlib import pyplot as plt\n",
    "from tensorflow.keras.models import model_from_json\n",
    "import rasterio\n",
    "import fiona\n",
    "from osgeo import gdal, ogr, osr\n",
    "import geopandas as gpd\n",
    "import tarfile\n",
    "from zipfile import ZipFile"
   ]
  },
  {
   "cell_type": "markdown",
   "id": "404d2ee3",
   "metadata": {},
   "source": [
    "# Set Variables For Inference"
   ]
  },
  {
   "cell_type": "code",
   "execution_count": null,
   "id": "9cf32de6",
   "metadata": {},
   "outputs": [],
   "source": [
    "output_bucket = \"csu-team04-inference-output\"\n",
    "input_bucket = \"csu-team04-inference-input\"\n",
    "model_bucket_name = \"csu-team04-inference-model\"\n",
    "model_object_name = \"model.tar.gz\""
   ]
  },
  {
   "cell_type": "markdown",
   "id": "b2cd3244",
   "metadata": {},
   "source": [
    "# Set Functions"
   ]
  },
  {
   "cell_type": "code",
   "execution_count": null,
   "id": "890aa901",
   "metadata": {},
   "outputs": [],
   "source": [
    "# Models come with 2 files:\n",
    "# JSON files contain the main model data\n",
    "# H5 files contain model weights\n",
    "def load_model(json_file, weights_file):\n",
    "    with open(json_file, 'r') as file:\n",
    "        json_content = file.read()\n",
    "        \n",
    "    model = model_from_json(json_content)\n",
    "    model.load_weights(weights_file)\n",
    "    \n",
    "    return model"
   ]
  },
  {
   "cell_type": "code",
   "execution_count": null,
   "id": "7766e78d",
   "metadata": {},
   "outputs": [],
   "source": [
    "# Overlay Mask on Image\n",
    "colour = [66, 255, 73]\n",
    "colour = [i/255.0 for i in colour]\n",
    "\n",
    "def place_mask_on_image(image, mask):\n",
    "    np.place(image[:, :, :], mask[:, :, :] >= 0.5, colour)\n",
    "    return image"
   ]
  },
  {
   "cell_type": "markdown",
   "id": "960af02f",
   "metadata": {},
   "source": [
    "# Make Prediction"
   ]
  },
  {
   "cell_type": "code",
   "execution_count": null,
   "id": "f5ff831f",
   "metadata": {},
   "outputs": [],
   "source": [
    "def predict(prediction):\n",
    "    prediction = prediction[0][:, :, :]\n",
    "    prediction = np.repeat(prediction, 3, 2)\n",
    "    return prediction"
   ]
  },
  {
   "cell_type": "markdown",
   "id": "99346d3d",
   "metadata": {},
   "source": [
    "# Load Model From S3"
   ]
  },
  {
   "cell_type": "code",
   "execution_count": null,
   "id": "7ab31882",
   "metadata": {},
   "outputs": [],
   "source": [
    "print(\"Loading model...\")\n",
    "model_path = f\"/tmp/{model_object_name}\"\n",
    "\n",
    "# Download model file from S3 into temp directory\n",
    "s3 = boto3.client(\"s3\")\n",
    "s3.download_file(model_bucket_name, model_object_name, model_path)\n",
    "\n",
    "# Extract model from tarball\n",
    "model_file = tarfile.open(model_path)\n",
    "model_file.extractall(\"/tmp/extracted_model\")\n",
    "print(f\"Model files: {os.listdir('/tmp/extracted_model/')}\")\n",
    "      \n",
    "# Load model for inference\n",
    "model = load_model(\"/tmp/extracted_model/model.json\", \"/tmp/extracted_model/model.h5\")\n",
    "print(\"Model loaded successfully!\")"
   ]
  },
  {
   "cell_type": "markdown",
   "id": "10551944",
   "metadata": {},
   "source": [
    "# Perform Inference"
   ]
  },
  {
   "cell_type": "code",
   "execution_count": null,
   "id": "681b41a5",
   "metadata": {},
   "outputs": [],
   "source": [
    "output_directory = \"/home/ec2-user/SageMaker/output\"\n",
    "shapefile_directory = \"/home/ec2-user/SageMaker/Shapefiles\"\n",
    "s3_resource = boto3.resource('s3')\n",
    "\n",
    "for obj in s3_resource.Bucket(input_bucket).objects.all():\n",
    "    img_object_name = (obj.key)\n",
    "    img_file_path = f\"/tmp/{uuid.uuid4()}-{img_object_name}\"\n",
    "    \n",
    "    # Download image from S3 \n",
    "    s3.download_file(input_bucket, img_object_name, img_file_path)\n",
    "    original_img = Image.open(img_file_path)\n",
    "    original_img_size = original_img.size\n",
    "    image = cv.imread(img_file_path)\n",
    "    \n",
    "    # Format image for inference\n",
    "    print(\"Formatting image...\")\n",
    "    img_shape = (512, 512)\n",
    "    image = image[:,:,:3]\n",
    "    image = np.expand_dims(cv.resize(image, img_shape), 0)\n",
    "    image = (image/255.0)\n",
    "    image = image.astype(np.float32)\n",
    "    display(original_img)\n",
    "    \n",
    "    # Make Prediction\n",
    "    prediction = predict(model(image))\n",
    "    upload_path = f\"{output_directory}/{img_object_name}\"\n",
    "    \n",
    "    # Convert Results to Tiff\n",
    "    result_image = Image.fromarray((prediction * 255).astype(np.uint8))\n",
    "    result_image.save(upload_path)\n",
    "    print(f\"Saving tiff to {upload_path}\")\n",
    "    tiff_mask = Image.open(upload_path)\n",
    "    display(tiff_mask)\n",
    "    \n",
    "    # Resize predicted mask image\n",
    "    print(\"Resizing mask to original size\")\n",
    "    tiff_mask = tiff_mask.resize(original_img_size)\n",
    "    tiff_mask.save(upload_path)\n",
    "    \n",
    "    # Copy geospatial data to predicted mask\n",
    "    command = f\"python /home/ec2-user/SageMaker/kernels/csu-team04-kernel/lib/python3.6/site-packages/osgeo_utils/samples/gdalcopyproj.py {img_file_path} {upload_path}\"\n",
    "    print(f\"Running command {command}\")\n",
    "    os.system(command)\n",
    "\n",
    "    # Display Overlay\n",
    "    plt.subplot(1, 2, 1)\n",
    "    plt.title(\"Satellite\")\n",
    "    plt.imshow(image[0])\n",
    "    plt.subplot(1, 2, 2)\n",
    "    plt.title(\"Predicted Mask\")\n",
    "    prediction = place_mask_on_image(image[0], prediction)\n",
    "    plt.imshow(prediction)\n",
    "    plt.show()\n",
    "    \n",
    "    # Convert tiff output mask to shapefile\n",
    "    shapefile_name = img_object_name.split('.')[0]\n",
    "    output_file = f\"{shapefile_directory}/{shapefile_name}.shp\"\n",
    "    command = f\"gdal_polygonize.py {upload_path} {output_file}\"\n",
    "    print(f\"executing command {command}\")\n",
    "    os.system(command)\n",
    "    \n",
    "    # Send shapefile contents to zip\n",
    "    print(f\"Zipping contents of {shapefile_name}\")\n",
    "    with ZipFile(f\"{shapefile_directory}/{shapefile_name}.zip\", \"w\") as shapefile_zip:\n",
    "        shapefile_zip.write(f\"{shapefile_directory}/{shapefile_name}.shp\")\n",
    "        shapefile_zip.write(f\"{shapefile_directory}/{shapefile_name}.dbf\")\n",
    "        shapefile_zip.write(f\"{shapefile_directory}/{shapefile_name}.prj\")\n",
    "        shapefile_zip.write(f\"{shapefile_directory}/{shapefile_name}.shx\")\n",
    "   \n",
    "    # Upload Result to Bucket\n",
    "    s3.upload_file(f\"{shapefile_directory}/{shapefile_name}.zip\", output_bucket, f\"{shapefile_name}.zip\")\n",
    "    print(\"Uploaded shapefile zip to output bucket!\")\n",
    "    \n",
    "    # Delete input image from bucket\n",
    "    s3.delete_object(Bucket=input_bucket, Key=obj.key)\n",
    "    print(\"Deleted image from input bucket!\")\n",
    "print(\"Inference complete!\")"
   ]
  },
  {
   "cell_type": "markdown",
   "id": "2539c79c",
   "metadata": {},
   "source": [
    "# Delete Output + Shapefile Contents"
   ]
  },
  {
   "cell_type": "code",
   "execution_count": null,
   "id": "ead89cc5",
   "metadata": {},
   "outputs": [],
   "source": [
    "!rm /home/ec2-user/SageMaker/output/* -rf\n",
    "!rm /home/ec2-user/SageMaker/Shapefiles/* -rf"
   ]
  }
 ],
 "metadata": {
  "kernelspec": {
   "display_name": "conda_csu-team04-kernel",
   "language": "python",
   "name": "conda_csu-team04-kernel"
  },
  "language_info": {
   "codemirror_mode": {
    "name": "ipython",
    "version": 3
   },
   "file_extension": ".py",
   "mimetype": "text/x-python",
   "name": "python",
   "nbconvert_exporter": "python",
   "pygments_lexer": "ipython3",
   "version": "3.6.15"
  }
 },
 "nbformat": 4,
 "nbformat_minor": 5
}
