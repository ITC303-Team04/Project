{
 "cells": [
  {
   "cell_type": "code",
   "execution_count": null,
   "id": "bfb7fa17",
   "metadata": {},
   "outputs": [],
   "source": [
    "#! conda install -y gdal"
   ]
  },
  {
   "cell_type": "code",
   "execution_count": null,
   "id": "b5c33e0c",
   "metadata": {},
   "outputs": [],
   "source": [
    "import os\n",
    "import boto3\n",
    "import logging\n",
    "import shutil\n",
    "from datetime import datetime\n",
    "import gdal"
   ]
  },
  {
   "cell_type": "code",
   "execution_count": null,
   "id": "1cf462c8",
   "metadata": {},
   "outputs": [],
   "source": [
    "input_dir  = 'tiles/'\n",
    "output_dir = 'output/'"
   ]
  },
  {
   "cell_type": "code",
   "execution_count": null,
   "id": "ae04a581",
   "metadata": {},
   "outputs": [],
   "source": [
    "try:\n",
    "    os.mkdir(input_dir)\n",
    "    os.mkdir(output_dir)\n",
    "except OSError as error:\n",
    "    print(error)"
   ]
  },
  {
   "cell_type": "code",
   "execution_count": null,
   "id": "24b6ef99",
   "metadata": {},
   "outputs": [],
   "source": [
    "#Processing each image and saving the results into the output folder\n",
    "tiles_folders = os.listdir(input_dir)\n",
    "print(tiles_folders)\n",
    "\n",
    "for folder_name in tiles_folders:\n",
    "    \n",
    "    #Create a file list\n",
    "    command = \"ls %s > %s\" % (input_dir + folder_name + '/*.tif', output_dir + folder_name + '/filelist.txt')\n",
    "    print(command)\n",
    "    os.system(command)\n",
    "\n",
    "    #Create a .vrt file from the filelist\n",
    "    command = \"gdalbuildvrt -input_file_list %s %s\" % (output_dir + folder_name + '/filelist.txt', output_dir + folder_name + '/merged.vrt')\n",
    "    print(command)\n",
    "    os.system(command)\n",
    "    \n",
    "    #Convert the .vrt file to GTiff\n",
    "    command = \"gdal_translate -of GTiff  %s %s\" % (output_dir + folder_name + '/merged.vrt', output_dir + folder_name + '/merged.tif')\n",
    "    print(command)\n",
    "    os.system(command)"
   ]
  },
  {
   "cell_type": "code",
   "execution_count": null,
   "id": "3e494f2e",
   "metadata": {},
   "outputs": [],
   "source": [
    "#Upload the resutls to S3\n",
    "\n",
    "folder_list = os.listdir(output_dir)\n",
    "#print(folder_list)\n",
    "\n",
    "for folder_name in folder_list:\n",
    "    \n",
    "    image_list = os.listdir(output_dir + folder_name)\n",
    "    #print(image_list)\n",
    "    \n",
    "    for image_name in image_list:\n",
    "        \n",
    "        if image_name != 'merged.tif':\n",
    "            continue\n",
    "        \n",
    "        upload_file_path = output_dir + folder_name + '/' + image_name\n",
    "        \n",
    "        print(upload_file_path)\n",
    "        \n",
    "        s3.upload_file(upload_file_path, \n",
    "                       s3_bucket_output, \n",
    "                       folder_name + '.tif')\n"
   ]
  },
  {
   "cell_type": "code",
   "execution_count": null,
   "id": "148f2dfe",
   "metadata": {},
   "outputs": [],
   "source": [
    "#Removing the files from the input and output directories\n",
    "shutil.rmtree(input_dir)\n",
    "shutil.rmtree(output_dir)\n",
    "logger.info('Removed the temp folders.')"
   ]
  }
 ],
 "metadata": {
  "kernelspec": {
   "display_name": "Python 3.9.13 64-bit",
   "language": "python",
   "name": "python3"
  },
  "language_info": {
   "codemirror_mode": {
    "name": "ipython",
    "version": 3
   },
   "file_extension": ".py",
   "mimetype": "text/x-python",
   "name": "python",
   "nbconvert_exporter": "python",
   "pygments_lexer": "ipython3",
   "version": "3.9.13"
  },
  "vscode": {
   "interpreter": {
    "hash": "b0fa6594d8f4cbf19f97940f81e996739fb7646882a419484c72d19e05852a7e"
   }
  }
 },
 "nbformat": 4,
 "nbformat_minor": 5
}
