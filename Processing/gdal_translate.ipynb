{
 "cells": [
  {
   "cell_type": "code",
   "execution_count": 1,
   "id": "e165bfc3",
   "metadata": {},
   "outputs": [],
   "source": [
    "import os"
   ]
  },
  {
   "cell_type": "code",
   "execution_count": 2,
   "id": "d180133c",
   "metadata": {},
   "outputs": [],
   "source": [
    "window_size = '1500 1500'\n",
    "input_dir = './app/input/'\n",
    "output_dir = './app/translated/'"
   ]
  },
  {
   "cell_type": "code",
   "execution_count": 3,
   "id": "41a179bb",
   "metadata": {},
   "outputs": [
    {
     "name": "stdout",
     "output_type": "stream",
     "text": [
      "Input file size is 96581, 114331\n",
      "0"
     ]
    },
    {
     "name": "stderr",
     "output_type": "stream",
     "text": [
      "ERROR 1: Marker is not compliant with its position\n",
      "\n",
      "ERROR 1: opj_decode() failed\n",
      "ERROR 1: ./app/input/Penrith_2013_09_50cm_BGRN.jp2, band 3: IReadBlock failed at X offset 0, Y offset 0: opj_decode() failed\n",
      "ERROR 1: IReadBlock failed at X offset 0, Y offset 0: ./app/input/Penrith_2013_09_50cm_BGRN.jp2, band 3: IReadBlock failed at X offset 0, Y offset 0: opj_decode() failed\n"
     ]
    },
    {
     "name": "stdout",
     "output_type": "stream",
     "text": [
      "Input file size is 13225, 9182\n",
      "0...10...20...30...40...50...60...70...80...90...100 - done.\n"
     ]
    }
   ],
   "source": [
    "images = os.listdir(input_dir)\n",
    "\n",
    "for img_name in images:\n",
    "    input_path = os.path.join(input_dir, img_name)\n",
    "    output_path = os.path.join(output_dir, img_name)\n",
    "\n",
    "    try:\n",
    "        command = f\"gdal_translate -b 3 -b 2 -b 1  {input_path} {output_path}\"\n",
    "        result = os.system(command)\n",
    "        \n",
    "    except Exception as e:\n",
    "        print(f\"e r r o r: {e}\")\n",
    "\n"
   ]
  }
 ],
 "metadata": {
  "kernelspec": {
   "display_name": "Python 3.9.12 ('base')",
   "language": "python",
   "name": "python3"
  },
  "language_info": {
   "codemirror_mode": {
    "name": "ipython",
    "version": 3
   },
   "file_extension": ".py",
   "mimetype": "text/x-python",
   "name": "python",
   "nbconvert_exporter": "python",
   "pygments_lexer": "ipython3",
   "version": "3.9.12"
  },
  "vscode": {
   "interpreter": {
    "hash": "d4d1e4263499bec80672ea0156c357c1ee493ec2b1c70f0acce89fc37c4a6abe"
   }
  }
 },
 "nbformat": 4,
 "nbformat_minor": 5
}
