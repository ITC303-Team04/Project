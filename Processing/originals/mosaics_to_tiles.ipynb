{
 "cells": [
  {
   "cell_type": "code",
   "execution_count": null,
   "id": "babc027a",
   "metadata": {},
   "outputs": [],
   "source": [
    "#! conda install -y gdal"
   ]
  },
  {
   "cell_type": "code",
   "execution_count": null,
   "id": "2a70f127",
   "metadata": {},
   "outputs": [],
   "source": [
    "import os\n",
    "import boto3\n",
    "import logging\n",
    "import shutil\n",
    "from datetime import datetime"
   ]
  },
  {
   "cell_type": "code",
   "execution_count": null,
   "id": "d180133c",
   "metadata": {},
   "outputs": [],
   "source": [
    "s3_bucket_input = 'tiling-function-input-bucket'\n",
    "s3_bucket_output = 'tiling-function-output-tiles'\n",
    "window_size = '500 500'\n",
    "\n",
    "#Temp directory\n",
    "input_dir  = 'input_images/'\n",
    "output_dir = 'output_tiles/'"
   ]
  },
  {
   "cell_type": "code",
   "execution_count": null,
   "id": "2baaeb87",
   "metadata": {},
   "outputs": [],
   "source": [
    "#Initializing the Logger and S3 libraries\n",
    "\n",
    "logger = logging.getLogger()\n",
    "#logger.setLevel(logging.INFO)\n",
    "logger.setLevel(logging.DEBUG)\n",
    "\n",
    "s3 = boto3.client('s3')"
   ]
  },
  {
   "cell_type": "code",
   "execution_count": null,
   "id": "7a5b132f",
   "metadata": {},
   "outputs": [],
   "source": [
    "#Creating the input and output folders\n",
    "\n",
    "try:\n",
    "    os.mkdir(input_dir)\n",
    "    os.mkdir(output_dir)\n",
    "except OSError as error:\n",
    "    print(error)"
   ]
  },
  {
   "cell_type": "code",
   "execution_count": null,
   "id": "ef0dae52",
   "metadata": {},
   "outputs": [],
   "source": [
    "#Downloading the images from the S3 bucket into the local directory\n",
    "logger.debug(f\"Downloading the images from the S3 bucket has started.\")\n",
    "\n",
    "for obj in s3.list_objects(Bucket=s3_bucket_input)['Contents']:\n",
    "    \n",
    "    if (obj['Key'].split('.')[1] != 'jp2'):\n",
    "        continue\n",
    "    \n",
    "    image_name = obj['Key']\n",
    "    print(image_name)\n",
    "    \n",
    "    s3.download_file(s3_bucket_input, image_name, input_dir + image_name)\n",
    "    \n",
    "logger.debug(f\"Images downloaded successfully into the local input folder.\")"
   ]
  },
  {
   "cell_type": "code",
   "execution_count": null,
   "id": "2aae201d",
   "metadata": {},
   "outputs": [],
   "source": [
    "! find ../../ -name gdal_retile.py"
   ]
  },
  {
   "cell_type": "code",
   "execution_count": null,
   "id": "3bb33e5f",
   "metadata": {},
   "outputs": [],
   "source": [
    "gdal_script_dir = '/home/ec2-user/anaconda3/envs/python3/bin/gdal_retile.py'"
   ]
  },
  {
   "cell_type": "code",
   "execution_count": null,
   "id": "8c0cefd8",
   "metadata": {},
   "outputs": [],
   "source": [
    "#Processing each image and saving the results into the output folder\n",
    "images = os.listdir(input_dir)\n",
    "print(images)\n",
    "\n",
    "for image_name in images:\n",
    "    \n",
    "    if image_name == '.ipynb_checkpoints':\n",
    "        continue\n",
    "    \n",
    "    target_dir = output_dir + image_name.split('.')[0] + '_tiles'\n",
    "    try:\n",
    "        #Creating a folder same as the name of the image\n",
    "        os.mkdir(target_dir)\n",
    "    except OSError as error:\n",
    "        print(error)\n",
    "\n",
    "    command = \"python %s -ps %s -targetDir %s %s\" % (gdal_script_dir, window_size, target_dir, input_dir + image_name)\n",
    "\n",
    "    print(command)\n",
    "\n",
    "    result = os.system(command)\n",
    "    \n",
    "    print(result)\n",
    "    \n",
    "    if (result == 1):\n",
    "        logger.info(\"tiles have been generated successfully.\")\n",
    "    else:\n",
    "        logger.info(\"Error occurred for generating the tiles.\")"
   ]
  },
  {
   "cell_type": "code",
   "execution_count": null,
   "id": "db460266",
   "metadata": {},
   "outputs": [],
   "source": [
    "#Upload the resutls to S3\n",
    "\n",
    "folder_list = os.listdir(output_dir)\n",
    "#print(folder_list)\n",
    "\n",
    "for folder in folder_list:\n",
    "    \n",
    "    image_list = os.listdir(output_dir + folder)\n",
    "    #print(image_list)\n",
    "    \n",
    "    for image_name in image_list:\n",
    "        \n",
    "        if image_name == '.ipynb_checkpoints':\n",
    "            continue\n",
    "        \n",
    "        upload_file_path = output_dir + folder + '/' + image_name\n",
    "        \n",
    "        #print(upload_file_path)\n",
    "        \n",
    "        s3.upload_file(upload_file_path, \n",
    "                       s3_bucket_output, \n",
    "                       #datetime.today().strftime('%d-%m-%Y') + '/' + folder + '/' + image_name)\n",
    "                       folder + '/' + image_name)\n"
   ]
  },
  {
   "cell_type": "code",
   "execution_count": null,
   "id": "8a821812",
   "metadata": {},
   "outputs": [],
   "source": [
    "#Removing the files from the input and output directories\n",
    "shutil.rmtree(input_dir)\n",
    "shutil.rmtree(output_dir)\n",
    "logger.info('Removed the temp folders.')"
   ]
  },
  {
   "cell_type": "code",
   "execution_count": null,
   "id": "45cbfe6b",
   "metadata": {},
   "outputs": [],
   "source": []
  }
 ],
 "metadata": {
  "kernelspec": {
   "display_name": "conda_python3",
   "language": "python",
   "name": "conda_python3"
  },
  "language_info": {
   "codemirror_mode": {
    "name": "ipython",
    "version": 3
   },
   "file_extension": ".py",
   "mimetype": "text/x-python",
   "name": "python",
   "nbconvert_exporter": "python",
   "pygments_lexer": "ipython3",
   "version": "3.8.12"
  }
 },
 "nbformat": 4,
 "nbformat_minor": 5
}
