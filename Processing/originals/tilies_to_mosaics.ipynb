{
 "cells": [
  {
   "cell_type": "code",
   "execution_count": null,
   "id": "bfb7fa17",
   "metadata": {},
   "outputs": [],
   "source": [
    "#! conda install -y gdal"
   ]
  },
  {
   "cell_type": "code",
   "execution_count": null,
   "id": "b5c33e0c",
   "metadata": {},
   "outputs": [],
   "source": [
    "import os\n",
    "import boto3\n",
    "import logging\n",
    "import shutil\n",
    "from datetime import datetime"
   ]
  },
  {
   "cell_type": "code",
   "execution_count": null,
   "id": "1cf462c8",
   "metadata": {},
   "outputs": [],
   "source": [
    "s3_bucket_input = 'tiling-function-output-tiles'\n",
    "s3_bucket_output = 'tiling-function-output-mosaics'\n",
    "\n",
    "#Temp directory\n",
    "input_dir  = 'input_tiles/'\n",
    "output_dir = 'output_mosaics/'"
   ]
  },
  {
   "cell_type": "code",
   "execution_count": null,
   "id": "12998bd3",
   "metadata": {},
   "outputs": [],
   "source": [
    "#Initializing the Logger and S3 libraries\n",
    "\n",
    "logger = logging.getLogger()\n",
    "#logger.setLevel(logging.INFO)\n",
    "logger.setLevel(logging.DEBUG)\n",
    "\n",
    "s3 = boto3.client('s3')"
   ]
  },
  {
   "cell_type": "code",
   "execution_count": null,
   "id": "ae04a581",
   "metadata": {},
   "outputs": [],
   "source": [
    "#Creating the input and output folders\n",
    "\n",
    "try:\n",
    "    os.mkdir(input_dir)\n",
    "    os.mkdir(output_dir)\n",
    "except OSError as error:\n",
    "    print(error)"
   ]
  },
  {
   "cell_type": "code",
   "execution_count": null,
   "id": "b8b2a5a6",
   "metadata": {},
   "outputs": [],
   "source": [
    "#Creating sub folders for the input tiles\n",
    "\n",
    "folders = s3.list_objects(Bucket=s3_bucket_input, Delimiter='/')\n",
    "for o in folders.get('CommonPrefixes'):\n",
    "    print (o.get('Prefix'))\n",
    "    \n",
    "    try:\n",
    "        os.mkdir(input_dir + \"/\" + o.get('Prefix'))\n",
    "        os.mkdir(output_dir + \"/\" + o.get('Prefix'))\n",
    "    except OSError as error:\n",
    "        print(error)"
   ]
  },
  {
   "cell_type": "code",
   "execution_count": null,
   "id": "1304eb06",
   "metadata": {},
   "outputs": [],
   "source": [
    "#Downloading the images from the S3 bucket into the local directory\n",
    "logger.debug(f\"Downloading the tiles from the S3 bucket has started.\")\n",
    "    \n",
    "paginator = s3.get_paginator('list_objects_v2')\n",
    "pages = paginator.paginate(Bucket=s3_bucket_input)\n",
    "\n",
    "for page in pages:\n",
    "    for obj in page['Contents']:\n",
    "        image_name = obj['Key']\n",
    "        #print(image_name)\n",
    "    \n",
    "        s3.download_file(s3_bucket_input, image_name, input_dir + image_name)\n",
    "    \n",
    "logger.debug(f\"Images downloaded successfully into the local input folder.\")"
   ]
  },
  {
   "cell_type": "code",
   "execution_count": null,
   "id": "24b6ef99",
   "metadata": {},
   "outputs": [],
   "source": [
    "#Processing each image and saving the results into the output folder\n",
    "tiles_folders = os.listdir(input_dir)\n",
    "print(tiles_folders)\n",
    "\n",
    "for folder_name in tiles_folders:\n",
    "    \n",
    "    #Create a file list\n",
    "    command = \"ls %s > %s\" % (input_dir + folder_name + '/*.tif', output_dir + folder_name + '/filelist.txt')\n",
    "    print(command)\n",
    "    os.system(command)\n",
    "\n",
    "    #Create a .vrt file from the filelist\n",
    "    command = \"gdalbuildvrt -input_file_list %s %s\" % (output_dir + folder_name + '/filelist.txt', output_dir + folder_name + '/merged.vrt')\n",
    "    print(command)\n",
    "    os.system(command)\n",
    "    \n",
    "    #Convert the .vrt file to GTiff\n",
    "    command = \"gdal_translate -of GTiff  %s %s\" % (output_dir + folder_name + '/merged.vrt', output_dir + folder_name + '/merged.tif')\n",
    "    print(command)\n",
    "    os.system(command)"
   ]
  },
  {
   "cell_type": "code",
   "execution_count": null,
   "id": "3e494f2e",
   "metadata": {},
   "outputs": [],
   "source": [
    "#Upload the resutls to S3\n",
    "\n",
    "folder_list = os.listdir(output_dir)\n",
    "#print(folder_list)\n",
    "\n",
    "for folder_name in folder_list:\n",
    "    \n",
    "    image_list = os.listdir(output_dir + folder_name)\n",
    "    #print(image_list)\n",
    "    \n",
    "    for image_name in image_list:\n",
    "        \n",
    "        if image_name != 'merged.tif':\n",
    "            continue\n",
    "        \n",
    "        upload_file_path = output_dir + folder_name + '/' + image_name\n",
    "        \n",
    "        print(upload_file_path)\n",
    "        \n",
    "        s3.upload_file(upload_file_path, \n",
    "                       s3_bucket_output, \n",
    "                       folder_name + '.tif')\n"
   ]
  },
  {
   "cell_type": "code",
   "execution_count": null,
   "id": "148f2dfe",
   "metadata": {},
   "outputs": [],
   "source": [
    "#Removing the files from the input and output directories\n",
    "shutil.rmtree(input_dir)\n",
    "shutil.rmtree(output_dir)\n",
    "logger.info('Removed the temp folders.')"
   ]
  }
 ],
 "metadata": {
  "kernelspec": {
   "display_name": "conda_python3",
   "language": "python",
   "name": "conda_python3"
  },
  "language_info": {
   "codemirror_mode": {
    "name": "ipython",
    "version": 3
   },
   "file_extension": ".py",
   "mimetype": "text/x-python",
   "name": "python",
   "nbconvert_exporter": "python",
   "pygments_lexer": "ipython3",
   "version": "3.8.12"
  }
 },
 "nbformat": 4,
 "nbformat_minor": 5
}
