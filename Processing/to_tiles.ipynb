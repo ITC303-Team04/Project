{
 "cells": [
  {
   "cell_type": "code",
   "execution_count": null,
   "id": "2a70f127",
   "metadata": {},
   "outputs": [],
   "source": [
    "import os"
   ]
  },
  {
   "cell_type": "code",
   "execution_count": null,
   "id": "d180133c",
   "metadata": {},
   "outputs": [],
   "source": [
    "window_size = '500 500'\n",
    "input_dir  = 'input/'\n",
    "output_dir = 'tiles/'\n",
    "gdal_script_dir = 'gdal_retile.py'"
   ]
  },
  {
   "cell_type": "code",
   "execution_count": null,
   "id": "33734dda",
   "metadata": {},
   "outputs": [],
   "source": [
    "try:\n",
    "    os.mkdir(input_dir)\n",
    "    os.mkdir(output_dir)\n",
    "except OSError as error:\n",
    "    print(error)\n",
    "\n",
    "# Ignore if: [Errno 17] File exists: 'input/'"
   ]
  },
  {
   "cell_type": "code",
   "execution_count": null,
   "id": "8c0cefd8",
   "metadata": {},
   "outputs": [],
   "source": [
    "images = os.listdir(input_dir)\n",
    "\n",
    "for image_name in images:\n",
    "\n",
    "    if not image_name.endswith('.jp2'):\n",
    "        continue\n",
    "    \n",
    "    command = f\"python {gdal_script_dir} -ps {window_size} -targetDir {output_dir} {input_dir}{image_name}\"\n",
    "   \n",
    "    print(f'COMMAND: {command}')\n",
    "    result = os.system(command)\n",
    "    \n",
    "    if (result == 1):\n",
    "        print(f\"Tiles have been generated successfully for {image_name}.\")\n",
    "    else:\n",
    "        print(f\"Error occurred for generating the tiles for {image_name}.\")\n",
    "        print(f\"EXIT CODE: {os.WEXITSTATUS(result)}\") \n",
    "\n",
    "    print(f\"RESULT: {result}\")\n",
    "    \n",
    "print(\"FINISHED\")"
   ]
  }
 ],
 "metadata": {
  "kernelspec": {
   "display_name": "Python 3.10.4 64-bit",
   "language": "python",
   "name": "python3"
  },
  "language_info": {
   "codemirror_mode": {
    "name": "ipython",
    "version": 3
   },
   "file_extension": ".py",
   "mimetype": "text/x-python",
   "name": "python",
   "nbconvert_exporter": "python",
   "pygments_lexer": "ipython3",
   "version": "3.10.4"
  },
  "vscode": {
   "interpreter": {
    "hash": "767d51c1340bd893661ea55ea3124f6de3c7a262a8b4abca0554b478b1e2ff90"
   }
  }
 },
 "nbformat": 4,
 "nbformat_minor": 5
}
