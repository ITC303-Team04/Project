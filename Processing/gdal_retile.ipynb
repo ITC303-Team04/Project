{
 "cells": [
  {
   "cell_type": "markdown",
   "id": "d8b8315b",
   "metadata": {},
   "source": [
    "# GDAL: Retile\n",
    "Place image files to be tiled in the input folder"
   ]
  },
  {
   "cell_type": "code",
   "execution_count": null,
   "id": "cb73c764",
   "metadata": {},
   "outputs": [],
   "source": [
    "import os\n",
    "import subprocess\n",
    "\n",
    "window_size = '1500 1500'\n",
    "input_dir  = './app/input/'\n",
    "output_dir = './app/tiles/'\n",
    "\n",
    "# ensure the path found matches gdal_script_dir \n",
    "! find ../../ -name gdal_retile.py\n",
    "gdal_script_dir = '../../opt/conda/bin/gdal_retile.py'"
   ]
  },
  {
   "cell_type": "code",
   "execution_count": 4,
   "id": "a5f76794",
   "metadata": {},
   "outputs": [
    {
     "name": "stdout",
     "output_type": "stream",
     "text": [
      "\n",
      "r u n n i n g: python ../../opt/conda/bin/gdal_retile.py -ps 1500 1500 -targetDir ./app/tiles/ ./app/input/Penrith_2013_09_50cm_BGRN.jp2\n",
      "0"
     ]
    },
    {
     "name": "stderr",
     "output_type": "stream",
     "text": [
      "ERROR 1: Marker is not compliant with its position\n",
      "\n",
      "ERROR 1: opj_decode() failed\n",
      "ERROR 1: ./app/input/Penrith_2013_09_50cm_BGRN.jp2, band 1: IReadBlock failed at X offset 0, Y offset 0: opj_decode() failed\n",
      "Traceback (most recent call last):\n",
      "  File \"//../../opt/conda/bin/gdal_retile.py\", line 4, in <module>\n",
      "    __import__('pkg_resources').run_script('GDAL==3.4.1', 'gdal_retile.py')\n",
      "  File \"/opt/conda/lib/python3.9/site-packages/pkg_resources/__init__.py\", line 662, in run_script\n",
      "    self.require(requires)[0].run_script(script_name, ns)\n",
      "  File \"/opt/conda/lib/python3.9/site-packages/pkg_resources/__init__.py\", line 1459, in run_script\n",
      "    exec(code, namespace, namespace)\n",
      "  File \"/opt/conda/lib/python3.9/site-packages/GDAL-3.4.1-py3.9-linux-x86_64.egg-info/scripts/gdal_retile.py\", line 11, in <module>\n",
      "    sys.exit(main(sys.argv))\n",
      "  File \"/opt/conda/lib/python3.9/site-packages/osgeo_utils/gdal_retile.py\", line 915, in main\n",
      "    dsCreatedTileIndex = tileImage(g, minfo, ti)\n",
      "  File \"/opt/conda/lib/python3.9/site-packages/osgeo_utils/gdal_retile.py\", line 354, in tileImage\n",
      "    createTile(g, minfo, offsetX, offsetY, width, height, tilename, OGRDS, feature_only)\n",
      "  File \"/opt/conda/lib/python3.9/site-packages/osgeo_utils/gdal_retile.py\", line 521, in createTile\n",
      "    s_fh = minfo.getDataSet(dec.ulx + offsetX * dec.scaleX, dec.uly + offsetY * dec.scaleY + height * dec.scaleY,\n",
      "  File \"/opt/conda/lib/python3.9/site-packages/osgeo_utils/gdal_retile.py\", line 270, in getDataSet\n",
      "    t_band.WriteRaster(tw_xoff, tw_yoff, tw_xsize, tw_ysize, data)\n",
      "  File \"/opt/conda/lib/python3.9/site-packages/osgeo/gdal.py\", line 4062, in WriteRaster\n",
      "    return _gdal.Band_WriteRaster(self,\n",
      "TypeError: not a unicode string, bytes, bytearray or memoryview\n"
     ]
    },
    {
     "name": "stdout",
     "output_type": "stream",
     "text": [
      "./app/input/Penrith_2013_09_50cm_BGRN.jp2, band 1: IReadBlock failed at X offset 0, Y offset 0: opj_decode() failed\n",
      "\n",
      "e r r o r: 1\n"
     ]
    }
   ],
   "source": [
    "images = os.listdir(input_dir)\n",
    "\n",
    "for image_name in images:\n",
    "    command = f\"python {gdal_script_dir} -ps {window_size} -targetDir {output_dir} {input_dir}{image_name}\"\n",
    "    print(f'\\nr u n n i n g: {command}')\n",
    "\n",
    "    \n",
    "    result = os.system(command)\n",
    "    \n",
    "    if (result == 1):\n",
    "        print(f\"\\ns u c c e s s: {image_name}.\")\n",
    "    else:\n",
    "        print(f\"\\ne r r o r: {os.WEXITSTATUS(result)}\") \n",
    "    "
   ]
  }
 ],
 "metadata": {
  "kernelspec": {
   "display_name": "Python 3.9.12 ('base')",
   "language": "python",
   "name": "python3"
  },
  "language_info": {
   "codemirror_mode": {
    "name": "ipython",
    "version": 3
   },
   "file_extension": ".py",
   "mimetype": "text/x-python",
   "name": "python",
   "nbconvert_exporter": "python",
   "pygments_lexer": "ipython3",
   "version": "3.9.12"
  },
  "vscode": {
   "interpreter": {
    "hash": "d4d1e4263499bec80672ea0156c357c1ee493ec2b1c70f0acce89fc37c4a6abe"
   }
  }
 },
 "nbformat": 4,
 "nbformat_minor": 5
}
